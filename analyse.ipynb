{
 "cells": [
  {
   "cell_type": "code",
   "execution_count": 1,
   "metadata": {},
   "outputs": [],
   "source": [
    "import pandas as pd\n",
    "import numpy as np\n",
    "from statsmodels.stats.anova import AnovaRM "
   ]
  },
  {
   "cell_type": "code",
   "execution_count": 2,
   "metadata": {},
   "outputs": [],
   "source": [
    "pre_df = pd.read_csv(\"data.csv\", sep = \";\", index_col=\"participant\")\n",
    "pre_df.reset_index(inplace=True)"
   ]
  },
  {
   "cell_type": "markdown",
   "metadata": {},
   "source": [
    "# Split dataframe & Condition"
   ]
  },
  {
   "cell_type": "code",
   "execution_count": 3,
   "metadata": {},
   "outputs": [],
   "source": [
    "df = pd.melt(pre_df,\n",
    "             id_vars = \"participant\",\n",
    "             value_name=\"COP\",\n",
    "             var_name=\"condition\")"
   ]
  },
  {
   "cell_type": "code",
   "execution_count": 4,
   "metadata": {},
   "outputs": [],
   "source": [
    "pre_df_x = df[df[\"condition\"].str[0] == \"X\"]\n",
    "pre_df_y = df[df[\"condition\"].str[0] == \"Y\"]"
   ]
  },
  {
   "cell_type": "code",
   "execution_count": 5,
   "metadata": {},
   "outputs": [
    {
     "name": "stderr",
     "output_type": "stream",
     "text": [
      "C:\\Users\\alexl\\AppData\\Local\\Temp\\ipykernel_30056\\1365905986.py:1: SettingWithCopyWarning: \n",
      "A value is trying to be set on a copy of a slice from a DataFrame.\n",
      "Try using .loc[row_indexer,col_indexer] = value instead\n",
      "\n",
      "See the caveats in the documentation: https://pandas.pydata.org/pandas-docs/stable/user_guide/indexing.html#returning-a-view-versus-a-copy\n",
      "  pre_df_x[\"condition\"] = pre_df_x[\"condition\"].str[2:]\n",
      "C:\\Users\\alexl\\AppData\\Local\\Temp\\ipykernel_30056\\1365905986.py:2: SettingWithCopyWarning: \n",
      "A value is trying to be set on a copy of a slice from a DataFrame.\n",
      "Try using .loc[row_indexer,col_indexer] = value instead\n",
      "\n",
      "See the caveats in the documentation: https://pandas.pydata.org/pandas-docs/stable/user_guide/indexing.html#returning-a-view-versus-a-copy\n",
      "  pre_df_y[\"condition\"] = pre_df_y[\"condition\"].str[2:]\n"
     ]
    }
   ],
   "source": [
    "pre_df_x[\"condition\"] = pre_df_x[\"condition\"].str[2:]\n",
    "pre_df_y[\"condition\"] = pre_df_y[\"condition\"].str[2:]"
   ]
  },
  {
   "cell_type": "code",
   "execution_count": 6,
   "metadata": {},
   "outputs": [
    {
     "name": "stderr",
     "output_type": "stream",
     "text": [
      "C:\\Users\\alexl\\AppData\\Local\\Temp\\ipykernel_30056\\3529395098.py:1: SettingWithCopyWarning: \n",
      "A value is trying to be set on a copy of a slice from a DataFrame.\n",
      "Try using .loc[row_indexer,col_indexer] = value instead\n",
      "\n",
      "See the caveats in the documentation: https://pandas.pydata.org/pandas-docs/stable/user_guide/indexing.html#returning-a-view-versus-a-copy\n",
      "  pre_df_x[\"oeil\"] = pre_df_x[\"condition\"].str[1]\n",
      "C:\\Users\\alexl\\AppData\\Local\\Temp\\ipykernel_30056\\3529395098.py:2: SettingWithCopyWarning: \n",
      "A value is trying to be set on a copy of a slice from a DataFrame.\n",
      "Try using .loc[row_indexer,col_indexer] = value instead\n",
      "\n",
      "See the caveats in the documentation: https://pandas.pydata.org/pandas-docs/stable/user_guide/indexing.html#returning-a-view-versus-a-copy\n",
      "  pre_df_x[\"audition\"] = pre_df_x[\"condition\"].str[0]\n",
      "C:\\Users\\alexl\\AppData\\Local\\Temp\\ipykernel_30056\\3529395098.py:3: SettingWithCopyWarning: \n",
      "A value is trying to be set on a copy of a slice from a DataFrame.\n",
      "Try using .loc[row_indexer,col_indexer] = value instead\n",
      "\n",
      "See the caveats in the documentation: https://pandas.pydata.org/pandas-docs/stable/user_guide/indexing.html#returning-a-view-versus-a-copy\n",
      "  pre_df_y[\"oeil\"] = pre_df_y[\"condition\"].str[1]\n",
      "C:\\Users\\alexl\\AppData\\Local\\Temp\\ipykernel_30056\\3529395098.py:4: SettingWithCopyWarning: \n",
      "A value is trying to be set on a copy of a slice from a DataFrame.\n",
      "Try using .loc[row_indexer,col_indexer] = value instead\n",
      "\n",
      "See the caveats in the documentation: https://pandas.pydata.org/pandas-docs/stable/user_guide/indexing.html#returning-a-view-versus-a-copy\n",
      "  pre_df_y[\"audition\"] = pre_df_y[\"condition\"].str[0]\n"
     ]
    }
   ],
   "source": [
    "pre_df_x[\"oeil\"] = pre_df_x[\"condition\"].str[1]\n",
    "pre_df_x[\"audition\"] = pre_df_x[\"condition\"].str[0]\n",
    "pre_df_y[\"oeil\"] = pre_df_y[\"condition\"].str[1]\n",
    "pre_df_y[\"audition\"] = pre_df_y[\"condition\"].str[0]"
   ]
  },
  {
   "cell_type": "code",
   "execution_count": 7,
   "metadata": {},
   "outputs": [],
   "source": [
    "df_x = pre_df_x\n",
    "df_y = pre_df_y"
   ]
  },
  {
   "cell_type": "code",
   "execution_count": 8,
   "metadata": {},
   "outputs": [
    {
     "data": {
      "text/plain": [
       "Index(['participant', 'condition', 'COP', 'oeil', 'audition'], dtype='object')"
      ]
     },
     "execution_count": 8,
     "metadata": {},
     "output_type": "execute_result"
    }
   ],
   "source": [
    "df_x.columns"
   ]
  },
  {
   "cell_type": "markdown",
   "metadata": {},
   "source": [
    "## True analyses"
   ]
  },
  {
   "cell_type": "code",
   "execution_count": 31,
   "metadata": {},
   "outputs": [
    {
     "name": "stdout",
     "output_type": "stream",
     "text": [
      "                  Anova\n",
      "==========================================\n",
      "              F Value Num DF Den DF Pr > F\n",
      "------------------------------------------\n",
      "oeil           0.0002 1.0000 1.0000 0.9922\n",
      "audition       0.5059 1.0000 1.0000 0.6064\n",
      "oeil:audition  0.3951 1.0000 1.0000 0.6428\n",
      "==========================================\n",
      "\n"
     ]
    }
   ],
   "source": [
    "print(AnovaRM(df_x, depvar=\"COP\", subject='participant', within=[\"oeil\", \"audition\"]).fit())"
   ]
  }
 ],
 "metadata": {
  "kernelspec": {
   "display_name": "Python 3",
   "language": "python",
   "name": "python3"
  },
  "language_info": {
   "codemirror_mode": {
    "name": "ipython",
    "version": 3
   },
   "file_extension": ".py",
   "mimetype": "text/x-python",
   "name": "python",
   "nbconvert_exporter": "python",
   "pygments_lexer": "ipython3",
   "version": "3.10.6"
  }
 },
 "nbformat": 4,
 "nbformat_minor": 2
}
