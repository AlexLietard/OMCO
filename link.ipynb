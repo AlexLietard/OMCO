{
 "cells": [
  {
   "cell_type": "code",
   "execution_count": 1,
   "metadata": {},
   "outputs": [],
   "source": [
    "import pandas as pd\n",
    "import numpy as np\n",
    "from statsmodels.stats.anova import AnovaRM "
   ]
  },
  {
   "cell_type": "code",
   "execution_count": 2,
   "metadata": {},
   "outputs": [],
   "source": [
    "df = pd.read_csv(\"pre_data.csv\", sep = \";\")\n",
    "key = pd.read_excel(\"cle.xlsx\")\n",
    "key.set_index(\"participant\", inplace=True)\n"
   ]
  },
  {
   "cell_type": "code",
   "execution_count": 3,
   "metadata": {},
   "outputs": [],
   "source": [
    "list_new_col = ([f\"Trial{i}\" for i in range(1, 13)])\n",
    "key.columns = list_new_col"
   ]
  },
  {
   "cell_type": "code",
   "execution_count": 4,
   "metadata": {},
   "outputs": [
    {
     "data": {
      "text/plain": [
       "'MO'"
      ]
     },
     "execution_count": 4,
     "metadata": {},
     "output_type": "execute_result"
    }
   ],
   "source": [
    "key.loc[1, \"Trial1\"]"
   ]
  },
  {
   "cell_type": "code",
   "execution_count": 5,
   "metadata": {},
   "outputs": [],
   "source": [
    "new_column_df = []\n",
    "for i, column in enumerate(df.columns):\n",
    "    nb_participant = column[1]\n",
    "    nb_trial = column.split(\"_\")[2]\n",
    "    cdt = key.loc[int(nb_participant), nb_trial]\n",
    "    if i%2 == 0:\n",
    "        new_column_df.append(f\"P{nb_participant}_X_{cdt}\")\n",
    "    else:\n",
    "        new_column_df.append(f\"P{nb_participant}_Y_{cdt}\")\n",
    "df.columns = new_column_df"
   ]
  },
  {
   "cell_type": "code",
   "execution_count": 6,
   "metadata": {},
   "outputs": [
    {
     "name": "stderr",
     "output_type": "stream",
     "text": [
      "C:\\Users\\alexl\\AppData\\Local\\Temp\\ipykernel_31048\\1894595350.py:1: FutureWarning: DataFrame.groupby with axis=1 is deprecated. Do `frame.T.groupby(...)` without axis instead.\n",
      "  df_try = df.groupby(by=df.columns, axis=1).mean()\n"
     ]
    }
   ],
   "source": [
    "df_try = df.groupby(by=df.columns, axis=1).mean()"
   ]
  },
  {
   "cell_type": "code",
   "execution_count": 7,
   "metadata": {},
   "outputs": [],
   "source": [
    "## Split les dataframes en fonction du participant \n",
    "list_df = []\n",
    "for participant in range(1, 3):\n",
    "    temp_df = df_try.filter(regex=f\"P{participant}\")\n",
    "    list_df.append(temp_df)"
   ]
  },
  {
   "cell_type": "code",
   "execution_count": 11,
   "metadata": {},
   "outputs": [
    {
     "name": "stderr",
     "output_type": "stream",
     "text": [
      "C:\\Users\\alexl\\AppData\\Local\\Temp\\ipykernel_32228\\271851790.py:8: FutureWarning: The behavior of DataFrame concatenation with empty or all-NA entries is deprecated. In a future version, this will no longer exclude empty or all-NA columns when determining the result dtypes. To retain the old behavior, exclude the relevant entries before the concat operation.\n",
      "  final_df_mean = pd.concat([final_df_mean, temp])\n"
     ]
    }
   ],
   "source": [
    "dic_data = {}\n",
    "df_column_clean = list(set([x[3:] for x in df_try.columns]))\n",
    "final_df_mean = pd.DataFrame(columns=df_column_clean)\n",
    "for df in list_df:\n",
    "    par = df.columns[0][0:2]\n",
    "    temp = pd.DataFrame.from_dict({col[3:]: [np.mean(df[col])] for col in df.columns})\n",
    "    temp.index = [par]\n",
    "    final_df_mean = pd.concat([final_df_mean, temp])"
   ]
  },
  {
   "cell_type": "code",
   "execution_count": 13,
   "metadata": {},
   "outputs": [],
   "source": [
    "final_df_mean.index.name = \"participant\"\n",
    "final_df_mean.to_csv(\"data.csv\", sep = \";\")"
   ]
  },
  {
   "cell_type": "code",
   "execution_count": null,
   "metadata": {},
   "outputs": [],
   "source": [
    "df[[\"axis_X, axis_Y\"]] = df[\"condition\"].str.split(\"_\", expand=True)"
   ]
  },
  {
   "cell_type": "code",
   "execution_count": 21,
   "metadata": {},
   "outputs": [
    {
     "name": "stdout",
     "output_type": "stream",
     "text": [
      "                Anova\n",
      "======================================\n",
      "          F Value Num DF Den DF Pr > F\n",
      "--------------------------------------\n",
      "condition 29.9235 7.0000 7.0000 0.0001\n",
      "======================================\n",
      "\n"
     ]
    }
   ],
   "source": [
    "model = AnovaRM(data = df, depvar='COP',\n",
    "         subject=\"index\", within=[\"condition\"]).fit()\n",
    "print(model)"
   ]
  }
 ],
 "metadata": {
  "kernelspec": {
   "display_name": "Python 3",
   "language": "python",
   "name": "python3"
  },
  "language_info": {
   "codemirror_mode": {
    "name": "ipython",
    "version": 3
   },
   "file_extension": ".py",
   "mimetype": "text/x-python",
   "name": "python",
   "nbconvert_exporter": "python",
   "pygments_lexer": "ipython3",
   "version": "3.10.6"
  }
 },
 "nbformat": 4,
 "nbformat_minor": 2
}
